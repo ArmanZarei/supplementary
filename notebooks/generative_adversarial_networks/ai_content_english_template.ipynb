{
 "cells": [
  {
   "cell_type": "markdown",
   "source": [
    "<div style=\"direction:ltr;line-height:300%;\">\r\n",
    "\t<font face=\"Arial\" size=5>\r\n",
    "\t\t<div align=center>\r\n",
    "\t\t\t\t<p></p>\r\n",
    "\t\t\t\t<p></p>\r\n",
    "In the Name of God\r\n",
    "            <p></p>\r\n",
    "<br>\r\n",
    "            Sharif University of Technology\r\n",
    "            <br>\r\n",
    "Computer Engineering Department\r\n",
    "            <p></p>\r\n",
    "Artificial Intelligence Course\r\n",
    "            <br />\r\n",
    "\t\t\t<br />\r\n",
    "            MohammadHossein Rohban\r\n",
    "            <br />\r\n",
    "Fall 2021\r\n",
    "        </div>\r\n",
    "\t\t<hr/>\r\n",
    "\t\t\t<div align=center>\r\n",
    "Generative Adversarial Networks\r\n",
    "        </div>\r\n",
    "\t\t<br />\r\n",
    "\t\t<div align=center>\r\n",
    "Arman Zarei\r\n",
    "        </div>\r\n",
    "\t\t<hr />\r\n",
    "\t\t<style type=\"text/css\" scoped>\r\n",
    "        p{\r\n",
    "        border: 1px solid #a2a9b1;background-color: #f8f9fa;display: inline-block;\r\n",
    "        };\r\n",
    "        </style>\r\n",
    "\t\t<div>\r\n",
    "\t\t\t<h3>Table of Contents</h3>\r\n",
    "\t\t\t<ul style=\"margin-right: 0;\">\r\n",
    "\t\t\t\t<li>\r\n",
    "                    <a href=\"#sec_intro\">\r\n",
    "                        Introduction\r\n",
    "                    </a>\r\n",
    "                </li>\r\n",
    "                <li>\r\n",
    "\t\t\t\t\t<a href=\"#sec_1\">\r\n",
    "                    Section 1\r\n",
    "                    </a>\r\n",
    "\t\t\t\t</li>\r\n",
    "                <li>\r\n",
    "\t\t\t\t\t<a href=\"#sec_2\">\r\n",
    "                Section 2\r\n",
    "                    </a>\r\n",
    "\t\t\t\t</li>\r\n",
    "\t\t\t</ul>\r\n",
    "\t\t</div>\r\n",
    "\t</font>\r\n",
    "</div>"
   ],
   "metadata": {}
  },
  {
   "cell_type": "markdown",
   "source": [
    "<p></p>\r\n",
    "<br />\r\n",
    "<div id=\"sec_intro\" style=\"direction:ltr;line-height:300%;\">\r\n",
    "\t<font face=\"Arial\" size=5>\r\n",
    "\t\t<font color=#888888 size=6>\r\n",
    "Introduction\r\n",
    "        </font>\r\n",
    "\t\t<p></p>\r\n",
    "\t\t<hr>\r\n",
    "GANs are a framework for teaching a DL model to capture the training data’s distribution so we can generate new data from that same distribution. GANs were invented by Ian Goodfellow in 2014 and first described in the paper Generative Adversarial Nets. They are made of two distinct models, a <strong>generator</strong> and a <strong>discriminator</strong>.\r\n",
    "<ul>\r\n",
    "\t<li>The job of the generator is to spawn ‘fake’ images that look like the training images.</li>\r\n",
    "\t<li>The job of the discriminator is to look at an image and output whether or not it is a real training image or a fake image from the generator.</li>\r\n",
    "</ul>\r\n",
    "   During training, \r\n",
    "\t<ul>\r\n",
    "\t\t<li>the generator is constantly trying to outsmart the discriminator by generating better and better fakes,</li>\r\n",
    "\t\t<li>while the discriminator is working to become a better detective and correctly classify the real and fake images.</li>\r\n",
    "\t</ul>\r\n",
    "     The equilibrium of this game is when the generator is generating perfect fakes that look as if they came directly from the training data, and the discriminator is left to always guess at 50% confidence that the generator output is real or fake.\r\n",
    "        <br>\r\n",
    "        <br/>\r\n",
    "\t\t<div style='text-align: center;'>\r\n",
    "\t\t\t<img src='./images/GAN.PNG'>\r\n",
    "\t\t</div>"
   ],
   "metadata": {}
  },
  {
   "cell_type": "markdown",
   "source": [
    "<p></p>\r\n",
    "<br />\r\n",
    "<div id=\"sec_1\" style=\"direction:ltr;line-height:300%;\">\r\n",
    "\t<font face=\"Arial\" size=5>\r\n",
    "\t\t<font color=#888888 size=6>\r\n",
    "Theory of GAN\r\n",
    "        </font>\r\n",
    "\t\t<p></p>\r\n",
    "\t\t<hr>"
   ],
   "metadata": {}
  },
  {
   "cell_type": "markdown",
   "source": [
    "First, Lets define some notations:\r\n",
    "- $x$: Data representing an image\r\n",
    "- $D(x)$: The discriminator network which outputs the (scalar) probability that $x$ came from training data rather than the generator\r\n",
    "    - $D(x)$ should be **high** when $x$ comes from training data\r\n",
    "    - and **low** when $x$ comes from the generator.\r\n",
    "- $z$: A latent space vector sampled from a standard normal distribution \r\n",
    "- $G(z)$: The generator function which maps the latent vector $z$ to data-space. \r\n",
    "    - goal of $G$: estimate the distribution that the training data comes from ($p_{data}$) so it can generate fake samples from that estimated distribution ($p_g$).\r\n",
    "\r\n",
    "So, $D(G(z))$ is the probability (scalar) that the output of the generator GG is a real image. As described in Goodfellow’s paper, $D$ and $G$ play a minimax game in which DD tries to maximize the probability it correctly classifies reals and fakes ($logD(x)$), and $G$ tries to minimize the probability that $D$ will predict its outputs are fake ($log(1-D(G(z)))$).  From the paper, the GAN loss function is:\r\n",
    "$$\r\n",
    "\\min_{G}\\max_{D}V(D, G) = \\mathbb{E}_{x \\sim p_{data}(x)} [logD(x)] + \\mathbb{E}_{z \\sim p_{z}(z)} [log(1 - D(G(z)))]\r\n",
    "$$\r\n",
    "In theory, the solution to this minimax game is where $p_g=p_{data}$, and the discriminator guesses randomly if the inputs are real or fake. However, the convergence theory of GANs is still being actively researched and in reality models do not always train to this point."
   ],
   "metadata": {}
  },
  {
   "cell_type": "markdown",
   "source": [
    "<p></p>\r\n",
    "<br />\r\n",
    "<div id=\"sec_2\" style=\"direction:ltr;line-height:300%;\">\r\n",
    "\t<font face=\"Arial\" size=5>\r\n",
    "\t\t<font color=#888888 size=6>\r\n",
    "Implementation of GAN in PyTorch\r\n",
    "        </font>\r\n",
    "\t\t<p></p>\r\n",
    "\t\t<hr>\r\n",
    "\t\t"
   ],
   "metadata": {}
  },
  {
   "cell_type": "code",
   "execution_count": null,
   "source": [
    "# Code Here"
   ],
   "outputs": [],
   "metadata": {}
  },
  {
   "cell_type": "markdown",
   "source": [
    "<p></p>\r\n",
    "<br />\r\n",
    "<div id=\"sec_2\" style=\"direction:ltr;line-height:300%;\">\r\n",
    "\t<font face=\"Arial\" size=5>\r\n",
    "\t\t<font color=#888888 size=6>\r\n",
    "Conditional GAN\r\n",
    "        </font>\r\n",
    "\t\t<p></p>\r\n",
    "\t\t<hr>\r\n",
    "        The conditional generative adversarial network, or cGAN for short, is a type of GAN that involves the conditional generation of images by a generator model. Image generation can be conditional on a class label, if available, allowing the targeted generated of images of a given type.\r\n",
    "        <ul>\r\n",
    "            <li>\r\n",
    "                For example, imagine the MNIST dataset and suppose we want to generate samples of numbers, but, we want to control which number to generate.\r\n",
    "            </li>\r\n",
    "        </ul>\r\n",
    "        Here is a comparison of GANs and cGANs:\r\n",
    "        <br>\r\n",
    "        <div style=\"text-align: center;\">\r\n",
    "            <img src='https://learnopencv.com/wp-content/uploads/2021/07/Conditional-GAN-in-PyTorch-and-TensorFlow.jpeg'>\r\n",
    "        </div>\r\n",
    "\t\t"
   ],
   "metadata": {}
  },
  {
   "cell_type": "markdown",
   "source": [
    "<p></p>\r\n",
    "<br />\r\n",
    "<div id=\"sec_2\" style=\"direction:ltr;line-height:300%;\">\r\n",
    "\t<font face=\"Arial\" size=5>\r\n",
    "\t\t<font color=#888888 size=6>\r\n",
    "Implementation of cGAN in PyTorch\r\n",
    "        </font>\r\n",
    "\t\t<p></p>\r\n",
    "\t\t<hr>\r\n"
   ],
   "metadata": {}
  },
  {
   "cell_type": "code",
   "execution_count": null,
   "source": [
    "# Code Here"
   ],
   "outputs": [],
   "metadata": {}
  },
  {
   "cell_type": "markdown",
   "source": [
    "<p></p>\r\n",
    "<br />\r\n",
    "<div id=\"sec_2\" style=\"direction:ltr;line-height:300%;\">\r\n",
    "\t<font face=\"Arial\" size=5>\r\n",
    "\t\t<font color=#888888 size=6>\r\n",
    "Other types of GAN\r\n",
    "        </font>\r\n",
    "\t\t<p></p>\r\n",
    "\t\t<hr>\r\n",
    "\t\tSome information about other variations of GAN ... (+ some links)"
   ],
   "metadata": {}
  },
  {
   "cell_type": "markdown",
   "source": [
    "<p></p>\n",
    "<br/>\n",
    "<div id=\"sec_refs\" style=\"direction:ltr;line-height:300%;\">\n",
    "\t<font face=\"Arial\" size=5>\n",
    "\t\t<font color=#888888 size=6>\n",
    "References\n",
    "        </font>\n",
    "\t\t<hr>       \n",
    "        <ul>\n",
    "            <li>\n",
    "Reference 1\n",
    "            </li>\n",
    "            <li>\n",
    "Reference 2\n",
    "            </li>\n",
    "        </ul>\n",
    "\t</font>\n",
    "</div>"
   ],
   "metadata": {}
  },
  {
   "cell_type": "code",
   "execution_count": null,
   "source": [],
   "outputs": [],
   "metadata": {}
  }
 ],
 "metadata": {
  "kernelspec": {
   "display_name": "Python 3",
   "language": "python",
   "name": "python3"
  },
  "language_info": {
   "codemirror_mode": {
    "name": "ipython",
    "version": 3
   },
   "file_extension": ".py",
   "mimetype": "text/x-python",
   "name": "python",
   "nbconvert_exporter": "python",
   "pygments_lexer": "ipython3",
   "version": "3.8.5"
  }
 },
 "nbformat": 4,
 "nbformat_minor": 2
}